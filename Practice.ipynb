{
  "cells": [
    {
      "cell_type": "markdown",
      "metadata": {
        "id": "4gzSEtwEvtVl"
      },
      "source": [
        "Sum of All Numbers"
      ]
    },
    {
      "cell_type": "code",
      "execution_count": null,
      "metadata": {
        "colab": {
          "base_uri": "https://localhost:8080/"
        },
        "id": "-lrzpskTRWFK",
        "outputId": "24c3a113-e664-48a2-bff3-55c1ce9e9cf0"
      },
      "outputs": [
        {
          "data": {
            "text/plain": [
              "45"
            ]
          },
          "execution_count": 6,
          "metadata": {},
          "output_type": "execute_result"
        }
      ],
      "source": [
        "x=[1,2,3,4,5,6,7,8,9]\n",
        "sum(x)"
      ]
    },
    {
      "cell_type": "markdown",
      "metadata": {
        "id": "tdfpSkGPT0PS"
      },
      "source": [
        "Maximum Number in a List"
      ]
    },
    {
      "cell_type": "code",
      "execution_count": null,
      "metadata": {
        "colab": {
          "base_uri": "https://localhost:8080/"
        },
        "id": "GwLbvH5RT1KZ",
        "outputId": "a5172a0c-64ef-463c-a617-9ddc7826339f"
      },
      "outputs": [
        {
          "data": {
            "text/plain": [
              "676"
            ]
          },
          "execution_count": 7,
          "metadata": {},
          "output_type": "execute_result"
        }
      ],
      "source": [
        "x=[5,6,7,8,45,3,35,676,8,5]\n",
        "max(x)"
      ]
    },
    {
      "cell_type": "markdown",
      "metadata": {
        "id": "g5qX4Qp0eT5r"
      },
      "source": [
        "Count the Number of Occurrences of an Element in a List"
      ]
    },
    {
      "cell_type": "code",
      "execution_count": null,
      "metadata": {
        "colab": {
          "base_uri": "https://localhost:8080/"
        },
        "id": "oa5_rRcofp3r",
        "outputId": "00277710-8009-4629-bc20-ad915ece1804"
      },
      "outputs": [
        {
          "data": {
            "text/plain": [
              "3"
            ]
          },
          "execution_count": 10,
          "metadata": {},
          "output_type": "execute_result"
        }
      ],
      "source": [
        "x=['A','B','B','A','A','R','F','M']\n",
        "x.count(\"A\")"
      ]
    },
    {
      "cell_type": "markdown",
      "metadata": {
        "id": "0PhQ4Hg-gH1f"
      },
      "source": [
        "Merge Two Lists Into a Single Sorted List"
      ]
    },
    {
      "cell_type": "code",
      "execution_count": null,
      "metadata": {
        "colab": {
          "base_uri": "https://localhost:8080/"
        },
        "id": "IJka_z4agNDc",
        "outputId": "6ead2eb4-2002-4dd2-93ad-e184b40e310a"
      },
      "outputs": [
        {
          "name": "stdout",
          "output_type": "stream",
          "text": [
            "[3, 5, 6, 7, 8, 13, 14, 18, 22, 23, 30, 45, 67, 67, 90, 433, 867]\n"
          ]
        }
      ],
      "source": [
        "R=[67,5,433,14,67,8,3]\n",
        "A=[30,18,22,6,23,45,7,867,13,90]\n",
        "R.sort()\n",
        "#print(R)\n",
        "A.sort()\n",
        "#print(A)\n",
        "RA=A+R\n",
        "RA.sort()\n",
        "print(RA)\n"
      ]
    },
    {
      "cell_type": "code",
      "execution_count": null,
      "metadata": {
        "colab": {
          "base_uri": "https://localhost:8080/"
        },
        "id": "ft-7KF9Lp32o",
        "outputId": "3c3b9aae-b367-4074-b21c-1f08d02fc48e"
      },
      "outputs": [
        {
          "name": "stdout",
          "output_type": "stream",
          "text": [
            "[1, 2, 5, 6, 9, 9, 12, 34, 34, 40, 133]\n"
          ]
        }
      ],
      "source": [
        "#TEST\n",
        "#x=[1,9,2,5,40,9,34,133,12,34,6]\n",
        "#x.sort()\n",
        "#print(x)"
      ]
    },
    {
      "cell_type": "markdown",
      "metadata": {
        "id": "ug4xDDpvTjlc"
      },
      "source": [
        "Reverse a Given Tuple"
      ]
    },
    {
      "cell_type": "code",
      "execution_count": null,
      "metadata": {
        "colab": {
          "base_uri": "https://localhost:8080/"
        },
        "id": "Xn4Yy8t9lH7y",
        "outputId": "b17e083f-69d9-4613-ac77-5d2f81ff592d"
      },
      "outputs": [
        {
          "name": "stdout",
          "output_type": "stream",
          "text": [
            "[23, 18, 10, 5, 3, 2]\n"
          ]
        }
      ],
      "source": [
        "x=(3,10,23,5,2,18)\n",
        "f=list(x)\n",
        "#print(f)\n",
        "f.sort(reverse=True)\n",
        "print(f)"
      ]
    },
    {
      "cell_type": "markdown",
      "metadata": {
        "id": "2Y5Sy2OgvynQ"
      },
      "source": [
        "Print the Fibonacci Sequence up to a Sepcified Number"
      ]
    },
    {
      "cell_type": "code",
      "execution_count": null,
      "metadata": {
        "colab": {
          "base_uri": "https://localhost:8080/"
        },
        "id": "ku2euZkAv5F4",
        "outputId": "de67a243-d6e5-45dd-81e1-c896c33e99c2"
      },
      "outputs": [
        {
          "name": "stdout",
          "output_type": "stream",
          "text": [
            "5\n"
          ]
        }
      ],
      "source": [
        "#not completed\n",
        "def R(num):\n",
        "  print(num)\n",
        "\n",
        "R(5)\n"
      ]
    },
    {
      "cell_type": "markdown",
      "metadata": {
        "id": "OIPXM8oDZsiP"
      },
      "source": [
        "Check if a Given Number is Even or Odd"
      ]
    },
    {
      "cell_type": "code",
      "execution_count": null,
      "metadata": {
        "id": "x1RkqHIBZ25A"
      },
      "outputs": [],
      "source": [
        "# not completed\n",
        "x=[2,4,5]\n",
        "y=2\n",
        "if x==y:\n",
        "  print(bool(x))"
      ]
    },
    {
      "cell_type": "markdown",
      "metadata": {
        "id": "Ov1S9y7UeqhR"
      },
      "source": [
        "Remove Duplicates from a List"
      ]
    },
    {
      "cell_type": "code",
      "execution_count": null,
      "metadata": {
        "colab": {
          "base_uri": "https://localhost:8080/"
        },
        "id": "NsxX94ztet4q",
        "outputId": "32221105-c7d1-4e28-e427-058df9705d1c"
      },
      "outputs": [
        {
          "name": "stdout",
          "output_type": "stream",
          "text": [
            "[4, 5, 6, 7]\n"
          ]
        }
      ],
      "source": [
        "# not completed\n",
        "x=[4,2,3,1]\n",
        "y=[4,5,6,7]\n",
        "\n",
        "print(y)"
      ]
    },
    {
      "cell_type": "markdown",
      "metadata": {
        "id": "X39RlJt8jAbJ"
      },
      "source": [
        "Calculate the Power of a Number Using Recurssion"
      ]
    },
    {
      "cell_type": "code",
      "execution_count": null,
      "metadata": {
        "colab": {
          "base_uri": "https://localhost:8080/"
        },
        "id": "8QS51GlpjANl",
        "outputId": "31d8d7e9-81a8-4fac-87d6-ea50cdc92e55"
      },
      "outputs": [
        {
          "name": "stdout",
          "output_type": "stream",
          "text": [
            "4\n"
          ]
        }
      ],
      "source": [
        "def f(x):\n",
        "  if x<=3:\n",
        "    print(f(x**2))\n",
        "  else:\n",
        "    return x\n",
        "f(2)"
      ]
    },
    {
      "cell_type": "markdown",
      "metadata": {
        "id": "N_R8FR2VjACt"
      },
      "source": []
    },
    {
      "cell_type": "markdown",
      "metadata": {
        "id": "SD0owWleqLbd"
      },
      "source": [
        "Create a tuple with three elements"
      ]
    },
    {
      "cell_type": "code",
      "execution_count": null,
      "metadata": {
        "id": "9x7Al_ieqMpj"
      },
      "outputs": [],
      "source": [
        "R=(5,6,7)"
      ]
    },
    {
      "cell_type": "markdown",
      "metadata": {
        "id": "noReW8mjqi6z"
      },
      "source": [
        "How do you access the second element of a list?"
      ]
    },
    {
      "cell_type": "code",
      "execution_count": 14,
      "metadata": {
        "colab": {
          "base_uri": "https://localhost:8080/"
        },
        "id": "uhnj-SUVqjja",
        "outputId": "a4d4ea31-e3b1-48cc-b0f4-eb93d598ebaf"
      },
      "outputs": [
        {
          "output_type": "stream",
          "name": "stdout",
          "text": [
            "2\n"
          ]
        }
      ],
      "source": [
        "R=[1,2,3,4]\n",
        "R=R[1]\n",
        "print(R)"
      ]
    },
    {
      "cell_type": "markdown",
      "metadata": {
        "id": "0Q_pQCuUqiwK"
      },
      "source": []
    },
    {
      "cell_type": "markdown",
      "source": [
        "Write a program to add two numbers using a function"
      ],
      "metadata": {
        "id": "cG5opmY3tbJ8"
      }
    },
    {
      "cell_type": "code",
      "source": [
        "R=[1,2,3]\n",
        "R.append(5)\n",
        "R.append(6)\n",
        "print(R)"
      ],
      "metadata": {
        "colab": {
          "base_uri": "https://localhost:8080/"
        },
        "id": "mP_nPGI8tcsn",
        "outputId": "d1033acb-ad7f-45d6-82ec-8bf4b4e12f8e"
      },
      "execution_count": null,
      "outputs": [
        {
          "output_type": "stream",
          "name": "stdout",
          "text": [
            "[1, 2, 3, 5, 6]\n"
          ]
        }
      ]
    },
    {
      "cell_type": "markdown",
      "source": [
        "Explain the difference between a list and a tuple"
      ],
      "metadata": {
        "id": "kUmEjz7puPXJ"
      }
    },
    {
      "cell_type": "code",
      "source": [
        "R=['A','B','R']\n",
        "print(R)\n",
        "R.insert(2,'F')\n",
        "print(R)\n",
        "A=('A','C','F')\n",
        "AR=list(A)\n",
        "print(AR)\n"
      ],
      "metadata": {
        "colab": {
          "base_uri": "https://localhost:8080/"
        },
        "id": "-kMRyFQeuQRs",
        "outputId": "adaf8b5a-6a43-4896-ac54-42b42c146f2f"
      },
      "execution_count": null,
      "outputs": [
        {
          "output_type": "stream",
          "name": "stdout",
          "text": [
            "['A', 'B', 'R']\n",
            "['A', 'B', 'F', 'R']\n",
            "['A', 'C', 'F']\n"
          ]
        }
      ]
    },
    {
      "cell_type": "markdown",
      "source": [
        "Check if a key is present in a dictionary"
      ],
      "metadata": {
        "id": "s-e8oElxu4Vx"
      }
    },
    {
      "cell_type": "code",
      "source": [
        "R={'Color':'Red','Size':36}\n",
        "F=R.get('Order')\n",
        "print(F)"
      ],
      "metadata": {
        "colab": {
          "base_uri": "https://localhost:8080/"
        },
        "id": "mWXU6I2wv9oN",
        "outputId": "00e9f930-74dd-40ab-af00-ea16606d76c5"
      },
      "execution_count": null,
      "outputs": [
        {
          "output_type": "stream",
          "name": "stdout",
          "text": [
            "None\n"
          ]
        }
      ]
    },
    {
      "cell_type": "markdown",
      "source": [
        "Write a Python function to find the maximum of three numbers"
      ],
      "metadata": {
        "id": "uPZSjP9LydBS"
      }
    },
    {
      "cell_type": "code",
      "source": [
        "#R=[67,102,98]\n",
        "#Bigger=max(R)\n",
        "#print(Bigger)\n",
        "def Bigger(R):\n",
        "  print(Bigger)\n",
        "R=max((102,98,88))\n",
        "print(R)"
      ],
      "metadata": {
        "colab": {
          "base_uri": "https://localhost:8080/"
        },
        "id": "Y6jpgBGoydpY",
        "outputId": "26e016b7-90b8-4825-9e36-bd0aba481bf5"
      },
      "execution_count": null,
      "outputs": [
        {
          "output_type": "stream",
          "name": "stdout",
          "text": [
            "102\n"
          ]
        }
      ]
    },
    {
      "cell_type": "markdown",
      "source": [
        "Create a set with elements 1, 2, and 3"
      ],
      "metadata": {
        "id": "3I0i05FvzNZ5"
      }
    },
    {
      "cell_type": "code",
      "source": [
        "x={1,2,3}\n",
        "print(x)"
      ],
      "metadata": {
        "colab": {
          "base_uri": "https://localhost:8080/"
        },
        "id": "G2kbp7XGzPQp",
        "outputId": "c7c2a6e4-0312-4ea8-fd92-213cf326de5d"
      },
      "execution_count": null,
      "outputs": [
        {
          "output_type": "stream",
          "name": "stdout",
          "text": [
            "{1, 2, 3}\n"
          ]
        }
      ]
    },
    {
      "cell_type": "markdown",
      "source": [
        "Use a for loop to print numbers from 1 to 5"
      ],
      "metadata": {
        "id": "SladnNyuzZyF"
      }
    },
    {
      "cell_type": "code",
      "source": [
        "R=[1,2,3,4,5]\n",
        "for i in R:\n",
        "  print(i)"
      ],
      "metadata": {
        "colab": {
          "base_uri": "https://localhost:8080/"
        },
        "id": "uvrAUHm7zalK",
        "outputId": "7e662bd3-fc79-4451-9955-dabfb01f048f"
      },
      "execution_count": null,
      "outputs": [
        {
          "output_type": "stream",
          "name": "stdout",
          "text": [
            "1\n",
            "2\n",
            "3\n",
            "4\n",
            "5\n"
          ]
        }
      ]
    },
    {
      "cell_type": "markdown",
      "source": [
        "Convert a list to a set"
      ],
      "metadata": {
        "id": "22QrVWzh0mbj"
      }
    },
    {
      "cell_type": "code",
      "source": [
        "R=[1,2,3]\n",
        "A=set(R)\n",
        "print(A)"
      ],
      "metadata": {
        "colab": {
          "base_uri": "https://localhost:8080/"
        },
        "id": "bd3_5mFW0nV4",
        "outputId": "dac05218-a0d8-4f1b-aa58-8ce7ec6b8ae3"
      },
      "execution_count": null,
      "outputs": [
        {
          "output_type": "stream",
          "name": "stdout",
          "text": [
            "{1, 2, 3}\n"
          ]
        }
      ]
    },
    {
      "cell_type": "markdown",
      "source": [
        "Write a program to calculate the factorial of a number using a while loop"
      ],
      "metadata": {
        "id": "TdAWHw95Bdwm"
      }
    },
    {
      "cell_type": "code",
      "source": [
        "R=4\n",
        "while R<4:\n",
        "  print(R)\n",
        "F=R-1\n",
        "A=F-1\n",
        "P=F*A\n",
        "print(P)\n",
        "\n"
      ],
      "metadata": {
        "colab": {
          "base_uri": "https://localhost:8080/"
        },
        "id": "Nc0lGaNGBfB4",
        "outputId": "70f73d92-b106-4370-cbef-0e4372754997"
      },
      "execution_count": null,
      "outputs": [
        {
          "output_type": "stream",
          "name": "stdout",
          "text": [
            "6\n"
          ]
        }
      ]
    },
    {
      "cell_type": "markdown",
      "source": [
        "Explain the purpose of the \"if\" statement in Python"
      ],
      "metadata": {
        "id": "0QfjZtSMecl0"
      }
    },
    {
      "cell_type": "code",
      "source": [
        "X=[\"Gives you the statement once the condition is T\"]\n",
        "if X==[\"Gives you the statement once the condition is T\"]:\n",
        "  print(\"Yes\")\n",
        "\n",
        "else:\n",
        "  print(\"Prints the other statement if F\")"
      ],
      "metadata": {
        "colab": {
          "base_uri": "https://localhost:8080/"
        },
        "id": "nlJuqP40edbN",
        "outputId": "e431547f-8024-437b-ce4d-61ecd8e46bf2"
      },
      "execution_count": null,
      "outputs": [
        {
          "output_type": "stream",
          "name": "stdout",
          "text": [
            "Yes\n"
          ]
        }
      ]
    },
    {
      "cell_type": "markdown",
      "source": [
        "Write a function that takes a list as a parameter and returns the sum of its elements"
      ],
      "metadata": {
        "id": "EdoIagEsgzeL"
      }
    },
    {
      "cell_type": "code",
      "source": [
        "def f(l):\n",
        "  print(l)\n",
        "\n",
        "l=(1,2,3,4)\n",
        "r=sum(l)\n",
        "print(r)\n",
        "\n"
      ],
      "metadata": {
        "colab": {
          "base_uri": "https://localhost:8080/"
        },
        "id": "8_J6n3Dwg0VX",
        "outputId": "a4dd881b-3bcb-4278-8d5a-fa17d337e489"
      },
      "execution_count": null,
      "outputs": [
        {
          "output_type": "stream",
          "name": "stdout",
          "text": [
            "10\n"
          ]
        }
      ]
    },
    {
      "cell_type": "markdown",
      "source": [
        "Create a dictionary with keys 'name' and 'age'"
      ],
      "metadata": {
        "id": "U_viV6RzixsR"
      }
    },
    {
      "cell_type": "code",
      "source": [
        "R={\"Name\":\"Rafeef\",\"Age\":29}\n",
        "print(R)"
      ],
      "metadata": {
        "colab": {
          "base_uri": "https://localhost:8080/"
        },
        "id": "yM0TVzKViysF",
        "outputId": "4ab17374-c75e-479a-8136-97390aadc162"
      },
      "execution_count": null,
      "outputs": [
        {
          "output_type": "stream",
          "name": "stdout",
          "text": [
            "{'Name': 'Rafeef', 'Age': 29}\n"
          ]
        }
      ]
    },
    {
      "cell_type": "markdown",
      "source": [
        "Use a while loop to print numbers from 1 to 3."
      ],
      "metadata": {
        "id": "glQgrF71vD54"
      }
    },
    {
      "cell_type": "code",
      "source": [
        "i=1\n",
        "while i<6:\n",
        "  print(i)\n",
        "  if i==3:\n",
        "      break\n",
        "  i=i+1"
      ],
      "metadata": {
        "colab": {
          "base_uri": "https://localhost:8080/"
        },
        "id": "assN3rNEvFYq",
        "outputId": "3453d4a6-71f5-4b50-8ee3-35d369511966"
      },
      "execution_count": 16,
      "outputs": [
        {
          "output_type": "stream",
          "name": "stdout",
          "text": [
            "1\n",
            "2\n",
            "3\n"
          ]
        }
      ]
    },
    {
      "cell_type": "markdown",
      "source": [
        "Explain the use of \"else\" in Python."
      ],
      "metadata": {
        "id": "Org0co6pz8ZJ"
      }
    },
    {
      "cell_type": "code",
      "source": [
        "x=\"it is used to do a function once the statement did not meet the first condition\"\n",
        "if x==\"meet condition\":\n",
        "  print(x)\n",
        "else:\n",
        "    print(\"This sentence should be printed\")"
      ],
      "metadata": {
        "colab": {
          "base_uri": "https://localhost:8080/"
        },
        "id": "3JeK6IMuz9FK",
        "outputId": "e8c2dd10-2c23-4b4e-a07b-90a8ea03dcdb"
      },
      "execution_count": 19,
      "outputs": [
        {
          "output_type": "stream",
          "name": "stdout",
          "text": [
            "This sentence should be printed\n"
          ]
        }
      ]
    },
    {
      "cell_type": "markdown",
      "source": [
        "Write a program to find the square root of a number using the math module."
      ],
      "metadata": {
        "id": "F9rynY7YdDmx"
      }
    },
    {
      "cell_type": "code",
      "source": [
        "squares=[x**2 for x in range (1,11)]\n",
        "print(squares)\n",
        "#not completed"
      ],
      "metadata": {
        "colab": {
          "base_uri": "https://localhost:8080/"
        },
        "id": "l7M5u38xdEBD",
        "outputId": "9178dbfc-096b-4fa2-83c0-c5e87bc71a82"
      },
      "execution_count": 9,
      "outputs": [
        {
          "output_type": "stream",
          "name": "stdout",
          "text": [
            "[1, 4, 9, 16, 25, 36, 49, 64, 81, 100]\n"
          ]
        }
      ]
    },
    {
      "cell_type": "markdown",
      "source": [
        "Concatenate two lists."
      ],
      "metadata": {
        "id": "Ig2zooV-hiQZ"
      }
    },
    {
      "cell_type": "code",
      "source": [
        "x=[\"Rafeef\"]\n",
        "y=[\"Salah\"]\n",
        "r=x+y\n",
        "print(r)"
      ],
      "metadata": {
        "colab": {
          "base_uri": "https://localhost:8080/"
        },
        "id": "IRL44NTWhi5f",
        "outputId": "632f0783-11a0-4af8-8e1f-0dce81d99036"
      },
      "execution_count": 10,
      "outputs": [
        {
          "output_type": "stream",
          "name": "stdout",
          "text": [
            "['Rafeef', 'Salah']\n"
          ]
        }
      ]
    },
    {
      "cell_type": "markdown",
      "source": [
        "Check fi a value is present in a tuple."
      ],
      "metadata": {
        "id": "RQOAsAsehu72"
      }
    },
    {
      "cell_type": "code",
      "source": [
        "d=(1,2,3)\n",
        "4 in d"
      ],
      "metadata": {
        "colab": {
          "base_uri": "https://localhost:8080/"
        },
        "id": "1VQ01CMGhuqI",
        "outputId": "b0202011-079c-45ed-98d7-79223baa699a"
      },
      "execution_count": 12,
      "outputs": [
        {
          "output_type": "execute_result",
          "data": {
            "text/plain": [
              "False"
            ]
          },
          "metadata": {},
          "execution_count": 12
        }
      ]
    },
    {
      "cell_type": "markdown",
      "source": [
        "Write a function that takes two parameters and returns\n",
        "their sum."
      ],
      "metadata": {
        "id": "uXiy5N1FirmM"
      }
    },
    {
      "cell_type": "code",
      "source": [
        "def add(num1,num2):\n",
        "  print(\"Number 1:\",num1)\n",
        "  print(\"Number 2:\",num2)\n",
        "  addition=num1+num2\n",
        "  return addition\n",
        "\n",
        "res=add(2,4)\n",
        "print(res)\n"
      ],
      "metadata": {
        "colab": {
          "base_uri": "https://localhost:8080/"
        },
        "id": "ppdsk4rBismv",
        "outputId": "7f10821a-757e-4996-fb8e-ecf51748aac2"
      },
      "execution_count": 16,
      "outputs": [
        {
          "output_type": "stream",
          "name": "stdout",
          "text": [
            "Number 1: 2\n",
            "Number 2: 4\n",
            "6\n"
          ]
        }
      ]
    },
    {
      "cell_type": "code",
      "source": [
        "def f(n1,n2):\n",
        "  r=n1+n2\n",
        "  print(r)\n",
        "r=[2,4]\n",
        "e=sum(r)\n",
        "print(e)"
      ],
      "metadata": {
        "colab": {
          "base_uri": "https://localhost:8080/"
        },
        "id": "C1npKbzdkhY-",
        "outputId": "5b0f9cff-e104-43b9-ea40-15ffd6391cf3"
      },
      "execution_count": 18,
      "outputs": [
        {
          "output_type": "stream",
          "name": "stdout",
          "text": [
            "6\n"
          ]
        }
      ]
    },
    {
      "cell_type": "markdown",
      "source": [
        "Remove an element from a set."
      ],
      "metadata": {
        "id": "snmP61Cptlgs"
      }
    },
    {
      "cell_type": "code",
      "source": [
        "  x={'a','b','c'}\n",
        "  x.remove('c')\n",
        "  print(x)"
      ],
      "metadata": {
        "colab": {
          "base_uri": "https://localhost:8080/"
        },
        "id": "RKQN4LA6tl8Q",
        "outputId": "708e296e-5f21-4099-f964-15412945298e"
      },
      "execution_count": 26,
      "outputs": [
        {
          "output_type": "stream",
          "name": "stdout",
          "text": [
            "{'a', 'b'}\n"
          ]
        }
      ]
    },
    {
      "cell_type": "markdown",
      "source": [
        "Explain the purpose of \"elif\" in Python."
      ],
      "metadata": {
        "id": "jW8qBjRyu6P0"
      }
    },
    {
      "cell_type": "code",
      "source": [
        "x=\"Value if True\"\n",
        "if x==\"Value\":\n",
        "  print(x)\n",
        "\n",
        "elif x==\"Value if True\":\n",
        "  print(\"Uses elif\")"
      ],
      "metadata": {
        "colab": {
          "base_uri": "https://localhost:8080/"
        },
        "id": "8cnut1dhu6DX",
        "outputId": "86754d4e-0cd7-4a56-aa84-eba42603ed38"
      },
      "execution_count": 41,
      "outputs": [
        {
          "output_type": "stream",
          "name": "stdout",
          "text": [
            "Uses elif\n"
          ]
        }
      ]
    },
    {
      "cell_type": "markdown",
      "source": [
        "Write a function that takes a string as input and returns its length."
      ],
      "metadata": {
        "id": "LNgMRUKXxMsR"
      }
    },
    {
      "cell_type": "code",
      "source": [
        "def f(length):\n",
        "  print(f)\n",
        "  length=len(f)\n",
        "  return length\n",
        "\n",
        "f=len(\"March\")\n",
        "print(f)\n"
      ],
      "metadata": {
        "colab": {
          "base_uri": "https://localhost:8080/"
        },
        "id": "VSrhM9KixOPd",
        "outputId": "becc4415-b9f1-48b2-bab7-98a25f99809f"
      },
      "execution_count": 51,
      "outputs": [
        {
          "output_type": "stream",
          "name": "stdout",
          "text": [
            "5\n"
          ]
        }
      ]
    },
    {
      "cell_type": "markdown",
      "source": [
        "Use list comprehension to create a list of squares from 1\n",
        "t o 5."
      ],
      "metadata": {
        "id": "Jn4Uh2XPz1M9"
      }
    },
    {
      "cell_type": "code",
      "source": [
        "squares=[x**2 for x in range (1,6)]\n",
        "print(squares)"
      ],
      "metadata": {
        "colab": {
          "base_uri": "https://localhost:8080/"
        },
        "id": "e-yuqigTz2DF",
        "outputId": "462897f0-6bdc-4e9b-b9ff-c4dcf8bc55e6"
      },
      "execution_count": 53,
      "outputs": [
        {
          "output_type": "stream",
          "name": "stdout",
          "text": [
            "[1, 4, 9, 16, 25]\n"
          ]
        }
      ]
    },
    {
      "cell_type": "markdown",
      "source": [
        "Find the index of an element in a list."
      ],
      "metadata": {
        "id": "c8lzdi1R0K--"
      }
    },
    {
      "cell_type": "code",
      "source": [
        "x=[1,2,3,4,5,5,6]\n",
        "list.index('3')\n"
      ],
      "metadata": {
        "colab": {
          "base_uri": "https://localhost:8080/",
          "height": 156
        },
        "id": "0RVijkK-0LWY",
        "outputId": "936b2b93-a929-411b-e3aa-b5d4d945b220"
      },
      "execution_count": 60,
      "outputs": [
        {
          "output_type": "error",
          "ename": "TypeError",
          "evalue": "descriptor 'index' for 'list' objects doesn't apply to a 'str' object",
          "traceback": [
            "\u001b[0;31m---------------------------------------------------------------------------\u001b[0m",
            "\u001b[0;31mTypeError\u001b[0m                                 Traceback (most recent call last)",
            "\u001b[0;32m<ipython-input-60-48fcab63ef97>\u001b[0m in \u001b[0;36m<cell line: 2>\u001b[0;34m()\u001b[0m\n\u001b[1;32m      1\u001b[0m \u001b[0mx\u001b[0m\u001b[0;34m=\u001b[0m\u001b[0;34m[\u001b[0m\u001b[0;36m1\u001b[0m\u001b[0;34m,\u001b[0m\u001b[0;36m2\u001b[0m\u001b[0;34m,\u001b[0m\u001b[0;36m3\u001b[0m\u001b[0;34m,\u001b[0m\u001b[0;36m4\u001b[0m\u001b[0;34m,\u001b[0m\u001b[0;36m5\u001b[0m\u001b[0;34m,\u001b[0m\u001b[0;36m5\u001b[0m\u001b[0;34m,\u001b[0m\u001b[0;36m6\u001b[0m\u001b[0;34m]\u001b[0m\u001b[0;34m\u001b[0m\u001b[0;34m\u001b[0m\u001b[0m\n\u001b[0;32m----> 2\u001b[0;31m \u001b[0mlist\u001b[0m\u001b[0;34m.\u001b[0m\u001b[0mindex\u001b[0m\u001b[0;34m(\u001b[0m\u001b[0;34m'3'\u001b[0m\u001b[0;34m)\u001b[0m\u001b[0;34m\u001b[0m\u001b[0;34m\u001b[0m\u001b[0m\n\u001b[0m",
            "\u001b[0;31mTypeError\u001b[0m: descriptor 'index' for 'list' objects doesn't apply to a 'str' object"
          ]
        }
      ]
    },
    {
      "cell_type": "markdown",
      "source": [
        "Write a program to reverse a string."
      ],
      "metadata": {
        "id": "bvud24962zxr"
      }
    },
    {
      "cell_type": "code",
      "source": [
        "x=[1,2,3]\n",
        "x.sort(reverse=True)\n",
        "print(x)"
      ],
      "metadata": {
        "colab": {
          "base_uri": "https://localhost:8080/"
        },
        "id": "vLSclF5I20V1",
        "outputId": "1a2c0e80-fbd2-4405-9627-dd80860b5aa8"
      },
      "execution_count": 69,
      "outputs": [
        {
          "output_type": "stream",
          "name": "stdout",
          "text": [
            "[3, 2, 1]\n"
          ]
        }
      ]
    },
    {
      "cell_type": "markdown",
      "source": [
        "Create a tuple and convert it to a list."
      ],
      "metadata": {
        "id": "tDjoKtUw31ZI"
      }
    },
    {
      "cell_type": "code",
      "source": [
        "x=(\"Rafeef\",\"Salah\")\n",
        "f=list(x)\n",
        "print(f)"
      ],
      "metadata": {
        "colab": {
          "base_uri": "https://localhost:8080/"
        },
        "id": "uLd7F_uu32kq",
        "outputId": "5bced84f-348c-44eb-d241-0e5701425c67"
      },
      "execution_count": 70,
      "outputs": [
        {
          "output_type": "stream",
          "name": "stdout",
          "text": [
            "['Rafeef', 'Salah']\n"
          ]
        }
      ]
    },
    {
      "cell_type": "markdown",
      "source": [],
      "metadata": {
        "id": "UvciDYsq4DLZ"
      }
    },
    {
      "cell_type": "markdown",
      "source": [
        "Check if a key exists in a dictionary using \"in\" keyword."
      ],
      "metadata": {
        "id": "dwZD0CaY4E0o"
      }
    },
    {
      "cell_type": "code",
      "source": [
        "R={'Name':'Rafee','Age':'29'}\n",
        "\"Height\" in R"
      ],
      "metadata": {
        "colab": {
          "base_uri": "https://localhost:8080/"
        },
        "id": "j7SoCQ-G4GCv",
        "outputId": "16ef878d-a1d0-4e00-b57a-88ddc4144d18"
      },
      "execution_count": 71,
      "outputs": [
        {
          "output_type": "execute_result",
          "data": {
            "text/plain": [
              "False"
            ]
          },
          "metadata": {},
          "execution_count": 71
        }
      ]
    },
    {
      "cell_type": "markdown",
      "source": [
        "Write a function to calculate the average of a list."
      ],
      "metadata": {
        "id": "5yAfvAa04lTR"
      }
    },
    {
      "cell_type": "code",
      "source": [
        "def R(num1,num2,num3):\n",
        "  Average=(sum(R)/len(R))\n",
        "  return Average\n",
        "\n",
        "f=[1,2,3]\n",
        "x=sum(f)\n",
        "Average=x/len(f)\n",
        "print(Average)"
      ],
      "metadata": {
        "colab": {
          "base_uri": "https://localhost:8080/"
        },
        "id": "19rlEmVo4lvH",
        "outputId": "0bc8f60b-43f6-44d4-ab2b-2442a10141bc"
      },
      "execution_count": 76,
      "outputs": [
        {
          "output_type": "stream",
          "name": "stdout",
          "text": [
            "2.0\n"
          ]
        }
      ]
    },
    {
      "cell_type": "markdown",
      "source": [
        "Use a while loop to print even numbers from 2 to 8."
      ],
      "metadata": {
        "id": "RUctMOHVPJlo"
      }
    },
    {
      "cell_type": "code",
      "source": [
        "x=2\n",
        "while x<=8:\n",
        "  print(x)\n",
        "  x=x+1"
      ],
      "metadata": {
        "colab": {
          "base_uri": "https://localhost:8080/"
        },
        "id": "F3Dx9NZDPKWk",
        "outputId": "ad788164-effb-41cc-ba6f-95224e6ece32"
      },
      "execution_count": 90,
      "outputs": [
        {
          "output_type": "stream",
          "name": "stdout",
          "text": [
            "2\n",
            "3\n",
            "4\n",
            "5\n",
            "6\n",
            "7\n",
            "8\n"
          ]
        }
      ]
    },
    {
      "cell_type": "markdown",
      "source": [
        "Check fi a value is present in a dictionary's values"
      ],
      "metadata": {
        "id": "RqBnTWzPRXvb"
      }
    },
    {
      "cell_type": "code",
      "source": [
        "r={'Name':'Rafeef'}\n",
        "'value' in r"
      ],
      "metadata": {
        "colab": {
          "base_uri": "https://localhost:8080/"
        },
        "id": "jsDzwFUSRYWt",
        "outputId": "3c87a167-f261-4136-9eb0-0924bfa1139d"
      },
      "execution_count": 92,
      "outputs": [
        {
          "output_type": "execute_result",
          "data": {
            "text/plain": [
              "False"
            ]
          },
          "metadata": {},
          "execution_count": 92
        }
      ]
    },
    {
      "cell_type": "markdown",
      "source": [
        "Explain the difference between \"extend\" and \"append\" methods in a list."
      ],
      "metadata": {
        "id": "tKR5VOitS_uL"
      }
    },
    {
      "cell_type": "code",
      "source": [
        "r=[1,2,3,4,5]\n",
        "a=[6,7,8,9,10]\n",
        "r.append(2)\n",
        "print(r)\n",
        "a.extend([2])\n",
        "print(a)"
      ],
      "metadata": {
        "colab": {
          "base_uri": "https://localhost:8080/"
        },
        "id": "7AzJ8brZTAG7",
        "outputId": "7b828a34-0884-4345-ae74-e1c7fe149d9d"
      },
      "execution_count": 97,
      "outputs": [
        {
          "output_type": "stream",
          "name": "stdout",
          "text": [
            "[1, 2, 3, 4, 5, 2]\n",
            "[6, 7, 8, 9, 10, 2]\n"
          ]
        }
      ]
    },
    {
      "cell_type": "markdown",
      "source": [
        "Create a dictionary and update its values."
      ],
      "metadata": {
        "id": "24h73ZF5T3j0"
      }
    },
    {
      "cell_type": "code",
      "source": [
        "r={'Color':'Red','Height':'180'}\n",
        "r['Color']='White'\n",
        "r['Height']='160'\n",
        "print(r)"
      ],
      "metadata": {
        "colab": {
          "base_uri": "https://localhost:8080/"
        },
        "id": "zQDSpI43T4EE",
        "outputId": "e134d2a1-f1dc-468d-fbcf-b102ba3d7851"
      },
      "execution_count": 101,
      "outputs": [
        {
          "output_type": "stream",
          "name": "stdout",
          "text": [
            "{'Color': 'White', 'Height': '160'}\n"
          ]
        }
      ]
    },
    {
      "cell_type": "markdown",
      "source": [
        "Check if a list is empty."
      ],
      "metadata": {
        "id": "uvEowpRZXZz6"
      }
    },
    {
      "cell_type": "code",
      "source": [
        "x=[]\n",
        "if x:\n",
        "  for x in x:\n",
        "    print(1)\n",
        "else:\n",
        "  print(\"Empty List\")"
      ],
      "metadata": {
        "colab": {
          "base_uri": "https://localhost:8080/"
        },
        "id": "90eJ9zDBXdR9",
        "outputId": "1b2e6aa8-2cfa-4f45-92f4-f2c40f1c0823"
      },
      "execution_count": 113,
      "outputs": [
        {
          "output_type": "stream",
          "name": "stdout",
          "text": [
            "Empty List\n"
          ]
        }
      ]
    },
    {
      "cell_type": "markdown",
      "source": [
        "Write a function to find the minimum value in a numpy array"
      ],
      "metadata": {
        "id": "cEaNrMp7z8p7"
      }
    },
    {
      "cell_type": "code",
      "source": [
        "import numpy as np\n",
        "x=np.array([34,12,45,67,23,567,90])\n",
        "f=min(x)\n",
        "print(f)"
      ],
      "metadata": {
        "colab": {
          "base_uri": "https://localhost:8080/"
        },
        "id": "OuhqRmzXz9bl",
        "outputId": "18cac4a0-b604-4880-faad-1f8f5ec65fa8"
      },
      "execution_count": 1,
      "outputs": [
        {
          "output_type": "stream",
          "name": "stdout",
          "text": [
            "12\n"
          ]
        }
      ]
    },
    {
      "cell_type": "markdown",
      "source": [
        "Create a numpy array with elements from 1to 5."
      ],
      "metadata": {
        "id": "aHznK8Wh1nvQ"
      }
    },
    {
      "cell_type": "code",
      "source": [
        "import numpy as np\n",
        "x=np.array([1,2,3,4,5])\n",
        "print(x)"
      ],
      "metadata": {
        "colab": {
          "base_uri": "https://localhost:8080/"
        },
        "id": "mkdWLGko1oZf",
        "outputId": "fb0b2d9b-3039-49aa-fbdb-c0606d9d8ffa"
      },
      "execution_count": 2,
      "outputs": [
        {
          "output_type": "stream",
          "name": "stdout",
          "text": [
            "[1 2 3 4 5]\n"
          ]
        }
      ]
    },
    {
      "cell_type": "markdown",
      "source": [
        "Write a program to convert Fahrenheit to Celsius using a function"
      ],
      "metadata": {
        "id": "kGR-bKtS14zo"
      }
    },
    {
      "cell_type": "code",
      "source": [
        "def f(Temp):\n",
        "  f=[\"Fahrenheit\"]\n",
        "  return f\n",
        "  A=[\"Celsius\"]\n",
        "if f==\"Fahrenheit\":\n",
        "  f=A\n",
        "else:\n",
        "  f=A\n",
        "\n",
        "print(f)\n",
        "\n"
      ],
      "metadata": {
        "colab": {
          "base_uri": "https://localhost:8080/"
        },
        "id": "i5oX4Fay15Op",
        "outputId": "89e9881e-8416-46d1-93d0-c69a2dd089d1"
      },
      "execution_count": 16,
      "outputs": [
        {
          "output_type": "stream",
          "name": "stdout",
          "text": [
            "['Celsius']\n"
          ]
        }
      ]
    },
    {
      "cell_type": "markdown",
      "source": [
        "Remove an element from a list by index."
      ],
      "metadata": {
        "id": "NLBM8AA66s2A"
      }
    },
    {
      "cell_type": "code",
      "source": [
        "x=[1,2,3,4,5,6]\n",
        "x.remove(x[1])\n",
        "print(x)"
      ],
      "metadata": {
        "colab": {
          "base_uri": "https://localhost:8080/"
        },
        "id": "Gya1_ZgT6u8Y",
        "outputId": "df3dae61-3f59-4e81-f97d-a53285a1836c"
      },
      "execution_count": 18,
      "outputs": [
        {
          "output_type": "stream",
          "name": "stdout",
          "text": [
            "[1, 3, 4, 5, 6]\n"
          ]
        }
      ]
    }
  ],
  "metadata": {
    "colab": {
      "provenance": []
    },
    "kernelspec": {
      "display_name": "Python 3",
      "name": "python3"
    },
    "language_info": {
      "name": "python"
    }
  },
  "nbformat": 4,
  "nbformat_minor": 0
}